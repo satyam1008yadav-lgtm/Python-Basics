{
  "nbformat": 4,
  "nbformat_minor": 0,
  "metadata": {
    "colab": {
      "provenance": []
    },
    "kernelspec": {
      "name": "python3",
      "display_name": "Python 3"
    },
    "language_info": {
      "name": "python"
    }
  },
  "cells": [
    {
      "cell_type": "markdown",
      "source": [
        "#  What is Python, and why is it popular\n",
        "  --> Python is a high level, general purpose programming language created by Guido van Rossum in the early 1990s.\n",
        "       Key reasons behind Python's popularity are\n",
        "       1- Strong, Open-Source Community\n",
        "       2- Rapid Development & Career Demand\n",
        "       3- Easy to Learn & Readable Syntax\n",
        "       4- Versatility Across Domains\n",
        "    "
      ],
      "metadata": {
        "id": "ffu92CXeAzQ2"
      }
    },
    {
      "cell_type": "markdown",
      "source": [
        "# What Is an Interpreter in Python?\n",
        " --> An interpreter in Python is a program that reads your Python code, converts it into a form the computer can understand, and then executes it.\n",
        "   It acts as both a translator (turning high-level Python code into an intermediate form) and a runtime engine that actually runs your code"
      ],
      "metadata": {
        "id": "qZeHEYSRBjwc"
      }
    },
    {
      "cell_type": "markdown",
      "source": [
        "# What are pre-defined keywords in Python\n",
        " -->  Keywords are words that are built into the Python language syntax and hold special meanings—like defining structure, control, logic, etc. You cannot use them as identifiers (e.g., variable or function names).\n",
        "Examples: Words such as for, if, def, return, and many others that the interpreter recognizes as specific language constructs"
      ],
      "metadata": {
        "id": "5ujv1s1oCCSF"
      }
    },
    {
      "cell_type": "markdown",
      "source": [
        "# Can keywords be used as variable names\n",
        " --> In Python, you cannot use keywords as variable names"
      ],
      "metadata": {
        "id": "8YrbSzYwCbzt"
      }
    },
    {
      "cell_type": "markdown",
      "source": [
        "# What is mutability in Python?\n",
        "  --> In Python, mutability refers to whether an object's internal state can be changed after it's created.\n",
        "\n"
      ],
      "metadata": {
        "id": "63Z3wQpiCxWl"
      }
    },
    {
      "cell_type": "markdown",
      "source": [
        "# Why are lists mutable, but tuples are immutable?\n",
        "  --> * Lists* are designed to be dynamic collections. You can add, remove, or modify their elements freely. This flexibility makes them perfect for scenarios where data needs to change during runtime.\n",
        "       *Tuples* on the other hand, are meant to represent fixed collections—sequences with a predetermined structure, like function return values or grouping related data."
      ],
      "metadata": {
        "id": "GcHB09TxC6n1"
      }
    },
    {
      "cell_type": "markdown",
      "source": [
        "# What is the difference between “==” and “is” operators in Python?\n",
        "  --> == equality operator,\n",
        "       is--Identity Operator"
      ],
      "metadata": {
        "id": "6bBphis9DbWV"
      }
    },
    {
      "cell_type": "markdown",
      "source": [
        "# What are logical operators in Python?\n",
        "   --> #and, or ,not are the three fundamental logical operators in python.\n",
        "       "
      ],
      "metadata": {
        "id": "KBznbC4-D1F-"
      }
    },
    {
      "cell_type": "markdown",
      "source": [
        "# What is type casting in Python?\n",
        " --> Type casting refers to converting a value from one data type to another. Python supports two approaches\n",
        "   1-  Implicit Conversion\n",
        "Python automatically converts between compatible types without explicit instructions.\n",
        "   2-  Explicit Conversion\n",
        "      the programmer manually converts types using built-in functions such as int(), float(), str(), bool(), list(),etc."
      ],
      "metadata": {
        "id": "xEBBnSOzEjn8"
      }
    },
    {
      "cell_type": "markdown",
      "source": [
        "# What is the difference between implicit and explicit type casting?\n",
        "  --> *Implicit Type Casting* (Automatic Conversion)\n",
        "          Python automatically converts one data type to another without programmer intervention—typically promoting a \"smaller\" type to a \"larger\" one to preserve precision.\n",
        "       *Explicit Type Casting* (Manual Conversion)\n",
        "           The programmer manually converts a value to a different type using built-in functions like int, float etc\n",
        "           "
      ],
      "metadata": {
        "id": "KKvzGmclFD_V"
      }
    },
    {
      "cell_type": "markdown",
      "source": [
        "# What is the purpose of conditional statements in Python\n",
        "  --> Conditional statements in Python—such as if, elif, and else—are fundamental tools that enable your programs to make decisions and execute different code paths based on specific conditions.\n",
        "      Conditional statements allow your program to evaluate expressions and execute code blocks selectively. This capability is essential for:\n",
        "\n",
        "*Decision Making* Executing code only when certain conditions are met.\n",
        "\n",
        "*Control Flow* Directing the program's execution along different paths based on dynamic conditions.\n",
        "\n",
        "*Handling Multiple Cases* Managing various scenarios with if, elif, and else to ensure appropriate actions are taken.\n",
        "\n"
      ],
      "metadata": {
        "id": "GAyDe-X_Fs5Q"
      }
    },
    {
      "cell_type": "markdown",
      "source": [
        "# How does the elif statement work?\n",
        "  --> The elif (short for \"else if\") statement in Python is used to evaluate multiple expressions for truthiness and execute a block of code as soon as one of the conditions is True. It follows an initial if statement and can be followed by one or more additional elif statements, allowing for more than two possible execution paths. If none of the if or elif conditions are true, the else block will execute, if provided.\n",
        "   ***How elif Works***\n",
        "Sequential Evaluation: Python evaluates the conditions in the order they appear. Once a condition evaluates to True, its corresponding block of code executes, and the rest of the elif and else blocks are skipped.\n",
        "\n",
        "\n",
        "Optional else Block: The else block is optional and will execute only if none of the preceding if or elif conditions are true"
      ],
      "metadata": {
        "id": "BYlrt7r0GEI_"
      }
    },
    {
      "cell_type": "markdown",
      "source": [
        "# What is the difference between for and while loops?\n",
        "  --> In Python, both for and while loops are used to execute a block of code repeatedly, but they differ in their structure and use cases.\n",
        "    *for Loop*\n",
        "   Ideal for iterating over a sequence (like a list, tuple, string, or range) when the number of iterations is known or predetermined.\n",
        "    *while Loop*\n",
        "  Used to execute a block of code as long as a specified condition is true. The number of iterations is not known beforehand."
      ],
      "metadata": {
        "id": "qDS2mGcTGcG2"
      }
    },
    {
      "cell_type": "markdown",
      "source": [
        "# Describe a scenario where a while loop is more suitable than a for loop?\n",
        "  --> A while loop is particularly useful when you need to repeat a block of code an indeterminate number of times, where the stopping condition is based on dynamic factors that aren't known in advance. Here's a scenario where a while loop is more suitable than a for loop.\n",
        "    Continuously Summing User Inputs Until Zero is Entered\n",
        "You want to keep adding numbers entered by the user until they input 0. Since you don't know how many numbers the user will enter, a while loop is ideal.\n",
        "\n",
        "Example:\n",
        "\n",
        "total = 0\n",
        "number = int(input(\"Enter a number (0 to stop): \"))\n",
        "\n",
        "while number != 0:\n",
        "    total += number\n",
        "    number = int(input(\"Enter a number (0 to stop): \"))\n",
        "\n",
        "print(f\"The total sum is: {total}\")\n"
      ],
      "metadata": {
        "id": "mvJwq151G487"
      }
    },
    {
      "cell_type": "code",
      "source": [],
      "metadata": {
        "id": "DqaT2pvwBi-r"
      },
      "execution_count": null,
      "outputs": []
    },
    {
      "cell_type": "code",
      "source": [],
      "metadata": {
        "id": "zOIpPvIuHlbl"
      },
      "execution_count": null,
      "outputs": []
    },
    {
      "cell_type": "markdown",
      "source": [
        "#8 Write a Python program to print \"Hello, World\""
      ],
      "metadata": {
        "id": "jqrtOoUeHvaL"
      }
    },
    {
      "cell_type": "code",
      "source": [
        "print(\"Hello, World!\")\n"
      ],
      "metadata": {
        "colab": {
          "base_uri": "https://localhost:8080/"
        },
        "id": "fQbzSH-pHlX2",
        "outputId": "acdcb890-a110-4088-fdac-72c6f4419d40"
      },
      "execution_count": 3,
      "outputs": [
        {
          "output_type": "stream",
          "name": "stdout",
          "text": [
            "Hello, World!\n"
          ]
        }
      ]
    },
    {
      "cell_type": "markdown",
      "source": [
        "# Write a Python program that displays your name and age?"
      ],
      "metadata": {
        "id": "MLSJy2uSH5Y_"
      }
    },
    {
      "cell_type": "code",
      "source": [
        "print(\"Satyam yadav, Age- 26\")"
      ],
      "metadata": {
        "colab": {
          "base_uri": "https://localhost:8080/"
        },
        "id": "GzDYdW9pH4PE",
        "outputId": "29f7fc5d-96de-4c84-862f-812bf82b3dd3"
      },
      "execution_count": 4,
      "outputs": [
        {
          "output_type": "stream",
          "name": "stdout",
          "text": [
            "Satyam yadav, Age- 26\n"
          ]
        }
      ]
    },
    {
      "cell_type": "markdown",
      "source": [
        "# Write code to print all the pre-defined keywords in Python using the keyword library?"
      ],
      "metadata": {
        "id": "_ciNaMFtIHNp"
      }
    },
    {
      "cell_type": "code",
      "source": [
        "print(\"Python Keywords:\")\n",
        "for kw in keyword.kwlist:\n",
        "    print(kw)\n",
        ""
      ],
      "metadata": {
        "colab": {
          "base_uri": "https://localhost:8080/"
        },
        "id": "h3bSgm4rIGT0",
        "outputId": "57ef45cf-70b5-4097-ba30-54e7752b4735"
      },
      "execution_count": 8,
      "outputs": [
        {
          "output_type": "stream",
          "name": "stdout",
          "text": [
            "Python Keywords:\n",
            "False\n",
            "None\n",
            "True\n",
            "and\n",
            "as\n",
            "assert\n",
            "async\n",
            "await\n",
            "break\n",
            "class\n",
            "continue\n",
            "def\n",
            "del\n",
            "elif\n",
            "else\n",
            "except\n",
            "finally\n",
            "for\n",
            "from\n",
            "global\n",
            "if\n",
            "import\n",
            "in\n",
            "is\n",
            "lambda\n",
            "nonlocal\n",
            "not\n",
            "or\n",
            "pass\n",
            "raise\n",
            "return\n",
            "try\n",
            "while\n",
            "with\n",
            "yield\n"
          ]
        }
      ]
    },
    {
      "cell_type": "markdown",
      "source": [
        "# Write a program that checks if a given word is a Python keyword?\n"
      ],
      "metadata": {
        "id": "iMKYIpy3Ixh_"
      }
    },
    {
      "cell_type": "code",
      "source": [
        "# Input word to check\n",
        "word = input(\"Enter a word to check if it's a Python keyword: \")\n",
        "\n",
        "# Check if the word is a Python keyword\n",
        "if keyword.iskeyword(word):\n",
        "    print(f\"'{word}' is a Python keyword.\")\n",
        "else:\n",
        "    print(f\"'{word}' is not a Python keyword.\")\n"
      ],
      "metadata": {
        "id": "694IUnfXI52g"
      },
      "execution_count": null,
      "outputs": []
    },
    {
      "cell_type": "markdown",
      "source": [
        "# Create a list and tuple in Python, and demonstrate how attempting to change an element works differently for each?"
      ],
      "metadata": {
        "id": "tVNzFKpPJMP2"
      }
    },
    {
      "cell_type": "code",
      "source": [
        "# Creating a list and a tuple\n",
        "my_list = [10, 20, 30, 40]\n",
        "my_tuple = (10, 20, 30, 40)\n",
        "\n",
        "# Attempting to modify the first element\n",
        "my_list[0] = 100  # This will succeed\n",
        "print(\"Updated list:\", my_list)\n",
        "\n",
        "try:\n",
        "    my_tuple[0] = 100  # This will raise an error\n",
        "except TypeError as e:\n",
        "    print(\"Error:\", e)\n",
        ""
      ],
      "metadata": {
        "id": "3-vwVJlIJANn"
      },
      "execution_count": null,
      "outputs": []
    },
    {
      "cell_type": "markdown",
      "source": [
        "#  Write a function to demonstrate the behavior of mutable and immutable arguments."
      ],
      "metadata": {
        "id": "oaZy4mKaJgH9"
      }
    },
    {
      "cell_type": "code",
      "source": [
        "def modify_objects(immutable_arg, mutable_arg):\n",
        "    print(f\"Before modification:\")\n",
        "    print(f\"ID of immutable_arg: {id(immutable_arg)}\")\n",
        "    print(f\"ID of mutable_arg: {id(mutable_arg)}\")\n",
        "\n",
        "    # Modifying immutable argument (string)\n",
        "    immutable_arg += \" World\"\n",
        "\n",
        "    # Modifying mutable argument (list)\n",
        "    mutable_arg.append(4)\n",
        "\n",
        "    print(f\"\\nAfter modification:\")\n",
        "    print(f\"ID of immutable_arg: {id(immutable_arg)}\")\n",
        "    print(f\"ID of mutable_arg: {id(mutable_arg)}\")\n",
        "\n",
        "    return immutable_arg, mutable_arg\n"
      ],
      "metadata": {
        "id": "Mt6vz7LtJZ4E"
      },
      "execution_count": null,
      "outputs": []
    },
    {
      "cell_type": "markdown",
      "source": [
        "#  Write a program that performs basic arithmetic operations on two user-input numbers."
      ],
      "metadata": {
        "id": "if4AFNAeJry1"
      }
    },
    {
      "cell_type": "code",
      "source": [
        "num1 = input(\"Enter the first number: \")\n",
        "num2 = input(\"Enter the second number: \")\n",
        "\n",
        " addition = num1 + num2\n",
        "\n",
        " print(f\"\\nResults:\")\n",
        "  print(f\"{num1} + {num2} = {addition}\")"
      ],
      "metadata": {
        "id": "9dXg0QXRKnG7"
      },
      "execution_count": null,
      "outputs": []
    },
    {
      "cell_type": "markdown",
      "source": [
        "# Write a program to demonstrate the use of logical operators?"
      ],
      "metadata": {
        "id": "sdDntXLPLyiV"
      }
    },
    {
      "cell_type": "code",
      "source": [
        "def logical_operations_demo():\n",
        "    # Sample variables\n",
        "    age = 25\n",
        "    income = 50000\n",
        "    has_passport = True\n",
        "    has_voter_id = False\n",
        "    is_student = True\n",
        "\n",
        "    # AND operator\n",
        "    if age > 18 and income > 30000:\n",
        "        print(\"Eligible for loan\")\n",
        "\n",
        "    # OR operator\n",
        "    if has_passport or has_voter_id:\n",
        "        print(\"Allowed to apply\")\n",
        "\n",
        "    # NOT operator\n",
        "    if not is_student:\n",
        "        print(\"Not eligible for student discount\")\n",
        "    else:\n",
        "        print(\"Eligible for student discount\")"
      ],
      "metadata": {
        "id": "sM_qUowrLsMH"
      },
      "execution_count": 19,
      "outputs": []
    },
    {
      "cell_type": "markdown",
      "source": [
        "#  Write a Python program to convert user input from string to integer, float, and boolean types."
      ],
      "metadata": {
        "id": "xHgNmG-HMEoa"
      }
    },
    {
      "cell_type": "code",
      "source": [
        "def convert_input():\n",
        "    user_input = input(\"Enter a value: \")\n",
        "\n",
        "        # Convert to integer\n",
        "        value = int(user_input)\n",
        "        print(f\"Integer: {int_value}\")\n",
        "\n",
        "\n",
        "        # Convert to float\n",
        "        float_value = float(user_input)\n",
        "        print(f\"Float: {float_value}\")\n",
        "\n",
        "\n",
        "    # Convert to boolean\n",
        "    bool_value = bool(user_input)\n",
        "    print(f\"Boolean: {bool_value}\")"
      ],
      "metadata": {
        "colab": {
          "base_uri": "https://localhost:8080/",
          "height": 108
        },
        "id": "wHBKby26MDxd",
        "outputId": "e15b762c-2103-4f1b-a191-fafc1fb0dae3"
      },
      "execution_count": 23,
      "outputs": [
        {
          "output_type": "error",
          "ename": "IndentationError",
          "evalue": "unexpected indent (ipython-input-1029597073.py, line 5)",
          "traceback": [
            "\u001b[0;36m  File \u001b[0;32m\"/tmp/ipython-input-1029597073.py\"\u001b[0;36m, line \u001b[0;32m5\u001b[0m\n\u001b[0;31m    value = int(user_input)\u001b[0m\n\u001b[0m    ^\u001b[0m\n\u001b[0;31mIndentationError\u001b[0m\u001b[0;31m:\u001b[0m unexpected indent\n"
          ]
        }
      ]
    },
    {
      "cell_type": "markdown",
      "source": [
        "#  Write code to demonstrate type casting with list elements."
      ],
      "metadata": {
        "id": "QkGvDuQIMeDP"
      }
    },
    {
      "cell_type": "code",
      "source": [
        "\n",
        "    # Original list with mixed types\n",
        "    mixed_list = [\"10\", \"3.14\", \"True\", \"False\", \"hello\"]\n",
        "\n",
        "    # Convert all elements to integers (where possible)\n",
        "    int_list = [int(float(item)) if item.replace('.', '', 1).isdigit() else item for item in mixed_list]\n",
        "    print(\"Converted to integers:\", int_list)\n",
        "\n",
        "    # Convert all elements to floats (where possible)\n",
        "    float_list = [float(item) if item.replace('.', '', 1).isdigit() else item for item in mixed_list]\n",
        "    print(\"Converted to floats:\", float_list)\n",
        "\n",
        "    # Convert all elements to booleans\n",
        "    bool_list = [bool(item) for item in mixed_list]\n",
        "    print(\"Converted to booleans:\", bool_list)"
      ],
      "metadata": {
        "id": "pI14nGVFMcOU"
      },
      "execution_count": null,
      "outputs": []
    },
    {
      "cell_type": "markdown",
      "source": [
        "# Write a program that checks if a number is positive, negative, or zero."
      ],
      "metadata": {
        "id": "49Nt-53nNTSi"
      }
    },
    {
      "cell_type": "code",
      "source": [
        "num = float(input(\"Enter a number: \"))\n",
        "  if num > 0:\n",
        "    print(\"The number is positive.\")\n",
        "  elif num < 0:\n",
        "    print(\"The number is negative.\")\n",
        "  else:\n",
        "    print(\"The number is zero.\")"
      ],
      "metadata": {
        "id": "xXdQMz-jM7Z_"
      },
      "execution_count": null,
      "outputs": []
    },
    {
      "cell_type": "markdown",
      "source": [
        "#  Write a for loop to print numbers from 1 to 10?"
      ],
      "metadata": {
        "id": "2sm5dwHsNyci"
      }
    },
    {
      "cell_type": "code",
      "source": [
        "for i in range(1, 11):\n",
        "    print(i)"
      ],
      "metadata": {
        "id": "35AzH7q6NkAM"
      },
      "execution_count": null,
      "outputs": []
    },
    {
      "cell_type": "markdown",
      "source": [
        "#  Write a Python program to find the sum of all even numbers between 1 and 50?\n"
      ],
      "metadata": {
        "id": "QeBGa-PMN_4L"
      }
    },
    {
      "cell_type": "code",
      "source": [
        "total_sum = 0\n",
        "for num in range(1, 51):\n",
        "    if num % 2 == 0:\n",
        "        total_sum += num\n",
        "\n",
        "# Print the result\n",
        "print(\"Sum of even numbers between 1 and 50:\", total_sum)"
      ],
      "metadata": {
        "id": "XL0jD5KlN-QK"
      },
      "execution_count": null,
      "outputs": []
    },
    {
      "cell_type": "markdown",
      "source": [
        "#  Write a program to reverse a string using a while loop."
      ],
      "metadata": {
        "id": "2VL_g4FaOaZU"
      }
    },
    {
      "cell_type": "code",
      "source": [
        "def reverse_string(s: str) -> str:\n",
        "    reversed_str = \"\"\n",
        "    index = len(s) - 1\n",
        "\n",
        "    while index >= 0:\n",
        "        reversed_str += s[index]\n",
        "        index -= 1\n",
        "\n",
        "    return reversed_str\n",
        "\n",
        "original = input(\"Enter a string to reverse: \")\n",
        "print(\"Reversed string:\", reverse_string(original))"
      ],
      "metadata": {
        "id": "kbAybVOeOQ-Q"
      },
      "execution_count": null,
      "outputs": []
    },
    {
      "cell_type": "markdown",
      "source": [
        "#  Write a Python program to calculate the factorial of a number provided by the user using a while loop.\n"
      ],
      "metadata": {
        "id": "QF4Wu_eqOoDl"
      }
    },
    {
      "cell_type": "code",
      "source": [
        "num = int(input(\"Enter a number: \"))\n",
        "fact = 1\n",
        "\n",
        "if num < 0:\n",
        "    print(\"Sorry, factorial does not exist for negative numbers\")\n",
        "elif num == 0:\n",
        "    print(\"The factorial of 0 is 1\")\n",
        "else:\n",
        "    i = 1\n",
        "    while i <= num:\n",
        "        fact *= i\n",
        "        i += 1\n",
        "    print(f\"The factorial of {num} is {fact}\")"
      ],
      "metadata": {
        "id": "ysdXRUHJOktc"
      },
      "execution_count": null,
      "outputs": []
    },
    {
      "cell_type": "code",
      "source": [],
      "metadata": {
        "id": "yhITcSdlOxC6"
      },
      "execution_count": null,
      "outputs": []
    }
  ]
}